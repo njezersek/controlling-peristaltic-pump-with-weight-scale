{
 "cells": [
  {
   "cell_type": "code",
   "execution_count": 1,
   "metadata": {},
   "outputs": [],
   "source": [
    "from PIL import Image\n",
    "import numpy as np\n",
    "import matplotlib.pyplot as plt"
   ]
  },
  {
   "cell_type": "code",
   "execution_count": 28,
   "metadata": {},
   "outputs": [],
   "source": [
    "img = Image.open(\"settings.png\")\n",
    "\n",
    "img_np = np.array(img)\n",
    "img_np = np.dot(img_np[...,:3], [0.299, 0.587, 0.114])\n",
    "img_np = np.where(img_np > 128, 1, 0)"
   ]
  },
  {
   "cell_type": "code",
   "execution_count": 29,
   "metadata": {},
   "outputs": [
    {
     "data": {
      "text/plain": [
       "(9, 24)"
      ]
     },
     "execution_count": 29,
     "metadata": {},
     "output_type": "execute_result"
    },
    {
     "data": {
      "image/png": "[encoded data removed]",
      "text/plain": [
       "<Figure size 432x288 with 1 Axes>"
      ]
     },
     "metadata": {},
     "output_type": "display_data"
    }
   ],
   "source": [
    "# add padding so the rows are divisible by 8\n",
    "img_pad = np.pad(img_np, ((0,0),(0,8-img_np.shape[1]%8)), 'constant', constant_values=0)\n",
    "plt.imshow(img_pad)\n",
    "img_pad.shape"
   ]
  },
  {
   "cell_type": "code",
   "execution_count": 42,
   "metadata": {},
   "outputs": [
    {
     "data": {
      "text/plain": [
       "'0x1,0xe0,0x0,0x11,0xe2,0x0,0x3b,0xf7,0x0,0x7f,0xff,0x80,0x3f,0xff,0x0,0x1f,0xfe,0x0,0x3f,0x3f,0x0,0xfe,0x1f,0xc0,0xfc,0xf,0xc0'"
      ]
     },
     "execution_count": 42,
     "metadata": {},
     "output_type": "execute_result"
    }
   ],
   "source": [
    "byte_string = [str(p) for p in img_pad.flatten()]\n",
    "n = 8\n",
    "B = [\"\".join(byte_string[i:i+n]) for i in range(0, len(byte_string), n)]\n",
    "H = [hex(int(b, 2)) for b in B]\n",
    "\",\".join(H)"
   ]
  }
 ],
 "metadata": {
  "interpreter": {
   "hash": "1baa965d5efe3ac65b79dfc60c0d706280b1da80fedb7760faf2759126c4f253"
  },
  "kernelspec": {
   "display_name": "Python 3.8.7 64-bit",
   "language": "python",
   "name": "python3"
  },
  "language_info": {
   "codemirror_mode": {
    "name": "ipython",
    "version": 3
   },
   "file_extension": ".py",
   "mimetype": "text/x-python",
   "name": "python",
   "nbconvert_exporter": "python",
   "pygments_lexer": "ipython3",
   "version": "3.8.7"
  },
  "orig_nbformat": 4
 },
 "nbformat": 4,
 "nbformat_minor": 2
}
