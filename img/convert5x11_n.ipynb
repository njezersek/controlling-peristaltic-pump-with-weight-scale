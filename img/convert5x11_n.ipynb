{
 "cells": [
  {
   "cell_type": "code",
   "execution_count": 2,
   "metadata": {},
   "outputs": [],
   "source": [
    "from PIL import Image\n",
    "import numpy as np\n",
    "import matplotlib.pyplot as plt"
   ]
  },
  {
   "cell_type": "code",
   "execution_count": 19,
   "metadata": {},
   "outputs": [
    {
     "data": {
      "image/png": "[encoded data removed]",
      "text/plain": [
       "<Figure size 1080x216 with 1 Axes>"
      ]
     },
     "metadata": {},
     "output_type": "display_data"
    }
   ],
   "source": [
    "img = Image.open(\"font_5x11_n.png\")\n",
    "\n",
    "img_np = np.array(img)\n",
    "# img to grayscale\n",
    "img_np = np.dot(img_np[...,:3], [0.299, 0.587, 0.114])\n",
    "plt.figure(figsize=(15,3))\n",
    "plt.imshow(img_np)\n",
    "\n",
    "W = 6\n",
    "H = 11\n",
    "row_size = 6"
   ]
  },
  {
   "cell_type": "code",
   "execution_count": 20,
   "metadata": {},
   "outputs": [
    {
     "data": {
      "text/plain": [
       "<matplotlib.image.AxesImage at 0x278e1fa3520>"
      ]
     },
     "execution_count": 20,
     "metadata": {},
     "output_type": "execute_result"
    },
    {
     "data": {
      "image/png": "[encoded data removed]",
      "text/plain": [
       "<Figure size 432x288 with 1 Axes>"
      ]
     },
     "metadata": {},
     "output_type": "display_data"
    }
   ],
   "source": [
    "img_chars = img_np.T.reshape((-1,W,H))\n",
    "img_chars = np.where(img_chars > 0, 1, 0)\n",
    "plt.imshow(img_chars[0, :row_size].T)"
   ]
  },
  {
   "cell_type": "code",
   "execution_count": 21,
   "metadata": {},
   "outputs": [
    {
     "data": {
      "text/plain": [
       "array([[0, 1, 1, 1, 0, 0, 0, 0],\n",
       "       [1, 0, 0, 0, 1, 0, 0, 0],\n",
       "       [1, 0, 0, 0, 1, 0, 0, 0],\n",
       "       [1, 0, 0, 0, 1, 0, 0, 0],\n",
       "       [1, 0, 0, 0, 1, 0, 0, 0],\n",
       "       [1, 0, 0, 0, 1, 0, 0, 0],\n",
       "       [1, 0, 0, 0, 1, 0, 0, 0],\n",
       "       [1, 0, 0, 0, 1, 0, 0, 0],\n",
       "       [1, 0, 0, 0, 1, 0, 0, 0],\n",
       "       [1, 0, 0, 0, 1, 0, 0, 0],\n",
       "       [0, 1, 1, 1, 0, 0, 0, 0]])"
      ]
     },
     "execution_count": 21,
     "metadata": {},
     "output_type": "execute_result"
    }
   ],
   "source": [
    "np.pad(img_chars[0, :row_size].T, [(0,0), (0,2)], 'constant', constant_values=0)"
   ]
  },
  {
   "cell_type": "code",
   "execution_count": 22,
   "metadata": {},
   "outputs": [
    {
     "data": {
      "text/plain": [
       "'0x70,0x88,0x88,0x88,0x88,0x88,0x88,0x88,0x88,0x88,0x70,0x20,0x60,0xa0,0x20,0x20,0x20,0x20,0x20,0x20,0x20,0xf8,0x70,0x88,0x8,0x8,0x8,0x8,0x10,0x20,0x40,0x80,0xf8,0x70,0x88,0x8,0x8,0x8,0x30,0x8,0x8,0x8,0x88,0x70,0x10,0x10,0x20,0x20,0x40,0x40,0x90,0xf8,0x10,0x10,0x10,0xf8,0x80,0x80,0x80,0x80,0xf0,0x8,0x8,0x8,0x88,0x70,0x70,0x88,0x80,0x80,0x80,0xf0,0x88,0x88,0x88,0x88,0x70,0xf8,0x8,0x8,0x10,0x10,0x20,0x20,0x20,0x40,0x40,0x40,0x70,0x88,0x88,0x88,0x88,0x70,0x88,0x88,0x88,0x88,0x70,0x70,0x88,0x88,0x88,0x88,0x78,0x8,0x8,0x8,0x88,0x70'"
      ]
     },
     "execution_count": 22,
     "metadata": {},
     "output_type": "execute_result"
    }
   ],
   "source": [
    "hex_bytes = []\n",
    "for i in range(0, img_chars.shape[0], 1):\n",
    "\tC = np.pad(img_chars[i, :row_size].T, [(0,0), (0,2)], 'constant', constant_values=0)\n",
    "\tfor j in range(H):\n",
    "\t\tbyte_str = \"\"\n",
    "\t\tbyte_str += \"\".join([str(c) for c in C[j]])\n",
    "\t\thex_bytes.append(hex(int(byte_str, 2)))\n",
    "\n",
    "\",\".join(hex_bytes)"
   ]
  }
 ],
 "metadata": {
  "interpreter": {
   "hash": "1baa965d5efe3ac65b79dfc60c0d706280b1da80fedb7760faf2759126c4f253"
  },
  "kernelspec": {
   "display_name": "Python 3.8.7 64-bit",
   "language": "python",
   "name": "python3"
  },
  "language_info": {
   "codemirror_mode": {
    "name": "ipython",
    "version": 3
   },
   "file_extension": ".py",
   "mimetype": "text/x-python",
   "name": "python",
   "nbconvert_exporter": "python",
   "pygments_lexer": "ipython3",
   "version": "3.8.7"
  },
  "orig_nbformat": 4
 },
 "nbformat": 4,
 "nbformat_minor": 2
}
