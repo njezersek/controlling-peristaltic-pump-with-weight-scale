{
 "cells": [
  {
   "cell_type": "code",
   "execution_count": 1,
   "metadata": {},
   "outputs": [],
   "source": [
    "from PIL import Image\n",
    "import numpy as np\n",
    "import matplotlib.pyplot as plt"
   ]
  },
  {
   "cell_type": "code",
   "execution_count": 2,
   "metadata": {},
   "outputs": [
    {
     "data": {
      "image/png": "[encoded data removed]",
      "text/plain": [
       "<Figure size 1080x216 with 1 Axes>"
      ]
     },
     "metadata": {},
     "output_type": "display_data"
    }
   ],
   "source": [
    "img = Image.open(\"font_5x5_a.png\")\n",
    "\n",
    "img_np = np.array(img)\n",
    "# img to grayscale\n",
    "img_np = np.dot(img_np[...,:3], [0.299, 0.587, 0.114])\n",
    "plt.figure(figsize=(15,3))\n",
    "plt.imshow(img_np)\n",
    "\n",
    "W = 6\n",
    "H = 5\n",
    "row_size = 4"
   ]
  },
  {
   "cell_type": "code",
   "execution_count": 3,
   "metadata": {},
   "outputs": [
    {
     "data": {
      "text/plain": [
       "<matplotlib.image.AxesImage at 0x12edcf32a60>"
      ]
     },
     "execution_count": 3,
     "metadata": {},
     "output_type": "execute_result"
    },
    {
     "data": {
      "image/png": "[encoded data removed]",
      "text/plain": [
       "<Figure size 432x288 with 1 Axes>"
      ]
     },
     "metadata": {},
     "output_type": "display_data"
    }
   ],
   "source": [
    "img_chars = img_np.T.reshape((-1,W,H))\n",
    "img_chars = np.where(img_chars > 0, 1, 0)\n",
    "plt.imshow(img_chars[0, :row_size].T)"
   ]
  },
  {
   "cell_type": "code",
   "execution_count": 4,
   "metadata": {},
   "outputs": [
    {
     "data": {
      "text/plain": [
       "'0x6e,0x99,0xfe,0x99,0x9e,0x6e,0x99,0x89,0x99,0x6e,0xee,0x88,0xcc,0x88,0xe8,0x69,0x89,0xff,0x99,0x69,0x82,0x82,0x82,0x8a,0x84,0x98,0xa8,0xc8,0xa8,0x9e,0x89,0xdd,0xab,0x89,0x89,0x6e,0x99,0x9e,0x98,0x68,0x6e,0x99,0x9e,0xa9,0x59,0x6e,0x84,0x44,0x24,0xc4,0x9a,0x9a,0x9a,0x9a,0x64,0x89,0x89,0xa6,0xd9,0x89,0x9f,0x92,0x64,0x28,0x4f'"
      ]
     },
     "execution_count": 4,
     "metadata": {},
     "output_type": "execute_result"
    }
   ],
   "source": [
    "hex_bytes = []\n",
    "for i in range(0, img_chars.shape[0], 2):\n",
    "\tfor j in range(H):\n",
    "\t\tbyte_str = \"\"\n",
    "\t\tbyte_str += \"\".join([str(c) for c in img_chars[i+0, :row_size].T[j]])\n",
    "\t\tbyte_str += \"\".join([str(c) for c in img_chars[i+1, :row_size].T[j]])\n",
    "\t\thex_bytes.append(hex(int(byte_str, 2)))\n",
    "\n",
    "\",\".join(hex_bytes)"
   ]
  },
  {
   "cell_type": "code",
   "execution_count": 5,
   "metadata": {},
   "outputs": [
    {
     "data": {
      "image/png": "[encoded data removed]",
      "text/plain": [
       "<PIL.PngImagePlugin.PngImageFile image mode=RGB size=156x5 at 0x12E9AD8FB20>"
      ]
     },
     "execution_count": 5,
     "metadata": {},
     "output_type": "execute_result"
    }
   ],
   "source": [
    "img"
   ]
  },
  {
   "cell_type": "code",
   "execution_count": 6,
   "metadata": {},
   "outputs": [
    {
     "name": "stdout",
     "output_type": "stream",
     "text": [
      "[ 0] A: 4\n",
      "[ 1] B: 4\n",
      "[ 2] C: 4\n",
      "[ 3] D: 4\n",
      "[ 4] E: 3\n",
      "[ 5] F: 3\n",
      "[ 6] G: 4\n",
      "[ 7] H: 4\n",
      "[ 8] I: 1\n",
      "[ 9] J: 3\n",
      "[10] K: 4\n",
      "[11] L: 3\n",
      "[12] M: 2\n",
      "[13] N: 4\n",
      "[14] O: 4\n",
      "[15] P: 4\n",
      "[16] Q: 4\n",
      "[17] R: 4\n",
      "[18] S: 3\n",
      "[19] T: 3\n",
      "[20] U: 4\n",
      "[21] V: 3\n",
      "[22] W: 2\n",
      "[23] X: 4\n",
      "[24] Y: 4\n",
      "[25] Z: 4\n"
     ]
    }
   ],
   "source": [
    "widths = []\n",
    "for i in range(img_chars.shape[0]):\n",
    "\tcolumn_full = img_chars[i].T.any(axis=0)\n",
    "\twidth = 2\n",
    "\tfor j in range(H):\n",
    "\t\tif not column_full[j]:\n",
    "\t\t\twidth = j\n",
    "\t\t\tbreak\n",
    "\twidths.append(width)\n",
    "\tprint(f\"[{i:2d}] {chr(ord('A')+i)}: {width}\")\n",
    "\n",
    "padding = (4 - len(widths) % 4) * [1]\n",
    "widths += padding"
   ]
  },
  {
   "cell_type": "code",
   "execution_count": 7,
   "metadata": {},
   "outputs": [
    {
     "data": {
      "text/plain": [
       "'0xff,0xaf,0x2e,0x7f,0xfa,0xe7,0xf0'"
      ]
     },
     "execution_count": 7,
     "metadata": {},
     "output_type": "execute_result"
    }
   ],
   "source": [
    "byte_str = [f\"{widths[i]-1:02b}{widths[i+1]-1:02b}{widths[i+2]-1:02b}{widths[i+3]-1:02b}\" for i in range(0, len(widths)-1, 4)]\n",
    "hex_bytes = [f\"0x{int(byte_str[i], 2):02x}\" for i in range(len(byte_str))]\n",
    "\n",
    "\",\".join(hex_bytes)"
   ]
  }
 ],
 "metadata": {
  "interpreter": {
   "hash": "1baa965d5efe3ac65b79dfc60c0d706280b1da80fedb7760faf2759126c4f253"
  },
  "kernelspec": {
   "display_name": "Python 3.8.7 64-bit",
   "language": "python",
   "name": "python3"
  },
  "language_info": {
   "codemirror_mode": {
    "name": "ipython",
    "version": 3
   },
   "file_extension": ".py",
   "mimetype": "text/x-python",
   "name": "python",
   "nbconvert_exporter": "python",
   "pygments_lexer": "ipython3",
   "version": "3.8.7"
  },
  "orig_nbformat": 4
 },
 "nbformat": 4,
 "nbformat_minor": 2
}
